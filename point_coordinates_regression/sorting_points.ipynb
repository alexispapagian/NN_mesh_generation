{
 "cells": [
  {
   "cell_type": "code",
   "execution_count": 589,
   "metadata": {},
   "outputs": [],
   "source": [
    "import sys\n",
    "sys.path.insert(0, '../Triangulation/')\n",
    "sys.path.insert(0, '../point_coordinates_regression/')\n",
    "\n",
    "sys.path.insert(0, '../network_datasets')\n",
    "\n"
   ]
  },
  {
   "cell_type": "code",
   "execution_count": 590,
   "metadata": {},
   "outputs": [],
   "source": [
    "import pickle\n",
    "import torch\n",
    "import numpy as np\n",
    "from matplotlib import  pyplot as plt\n",
    "\n",
    "\n",
    "from point_coordinates_regression import *"
   ]
  },
  {
   "cell_type": "code",
   "execution_count": 584,
   "metadata": {},
   "outputs": [],
   "source": [
    "def sort_points_filter(point_coordinates,nb_of_points):\n",
    "    polygon=point_coordinates.reshape(len(point_coordinates),nb_of_points,2)\n",
    "    barycenters=extract_barycenter(point_coordinates,nb_of_points)\n",
    "    angles=[]\n",
    "    polygons=point_coordinates.reshape(len(point_coordinates),nb_of_points,2)\n",
    "    vectors=polygons-barycenters\n",
    "\n",
    "    for  barycenter_vectors in vectors:\n",
    "        for vector in barycenter_vectors:\n",
    "            angles.append(angle_counterclockwise(np.array([1,0]),vector))\n",
    "            \n",
    "    sorted_angles=sorted(angles)             \n",
    "    angles=np.array(angles).reshape(len(vectors),nb_of_points,1)\n",
    "    print(sorted_angles)\n",
    "    point_coordinates_with_angles=np.dstack([polygons,angles])\n",
    "    print(point_coordinates_with_angles)\n",
    "    point_coordinates_sorted=[]\n",
    "    for points in point_coordinates_with_angles:\n",
    "        points_sorted=np.array(sorted(points,key=lambda x: x[2]))\n",
    "        points_sorted=points_sorted[:,0:2]\n",
    "        point_coordinates_sorted.append(points_sorted.reshape(1,nb_of_points,2))\n",
    "    point_coordinates_sorted=np.array(point_coordinates_sorted)  \n",
    "    point_coordinates_with_angles_sorted={str(i):a for i,a in zip(point_coordinates_sorted.reshape(nb_of_points,2),sorted_angles)}\n",
    "    sorted_point_indices=[i for i in point_coordinates_with_angles_sorted.keys()]\n",
    "    sorted_angles_differences=[abs(sorted_angles[(int(i+1))%(len(sorted_angles)-1)]-sorted_angles[i]) for i in range(len(sorted_angles))]\n",
    "    angle_differences={str(sorted_point_indices[(int(i+1))%(len(sorted_point_indices)-1)])+'-'+str(sorted_point_indices[i]):angle_diff for i,angle_diff in enumerate(sorted_angles_differences)}\n",
    "    print(angle_differences)\n",
    "    point_coordinates_sorted=point_coordinates_sorted.reshape(nb_of_points,2)\n",
    "    \n",
    "    angle_threshold=20\n",
    "    angle_indices=np.where(np.array(sorted_angles)>360-angle_threshold)\n",
    "    angle_indices=np.array(angle_indices)\n",
    "    if angle_indices.size>0:\n",
    "        print(\"flipping\")\n",
    "        point_coordinates_sorted=np.roll(point_coordinates_sorted,angle_indices.size,axis=0)\n",
    "    \n",
    "    \n",
    "    \n",
    "    if len(point_coordinates_sorted)>3:\n",
    "\n",
    "        for coordinates,angle_difference in angle_differences.items():\n",
    "            if angle_difference<15:\n",
    "                coordinate1,coordinate2=coordinates.split('-')\n",
    "                coordinate1=np.fromstring(coordinate1.replace(\"[\",\" \").replace(\"]\",\" \"),sep=' ')  \n",
    "                coordinate2=np.fromstring(coordinate2.replace(\"[\",\" \").replace(\"]\",\" \"),sep=' ')                       \n",
    "\n",
    "                print(coordinate1)\n",
    "                print(coordinate2)\n",
    "                point_index1=point_coordinates_sorted.reshape(nb_of_points,2).tolist().index(coordinate1.tolist())\n",
    "                point_index2=point_coordinates_sorted.reshape(nb_of_points,2).tolist().index(coordinate2.tolist())\n",
    "                print(point_index1,point_index2)\n",
    "\n",
    "                distance1=np.linalg.norm(barycenters- point_coordinates_sorted[point_index1])\n",
    "                distance2=np.linalg.norm(barycenters- point_coordinates_sorted[point_index2])\n",
    "                minimum_index=np.argmin(np.array(distance1,distance2))\n",
    "                if minimum_index==0 or minimum_index==1:\n",
    "                    temp=np.copy(point_coordinates_sorted[point_index1])\n",
    "                    point_coordinates_sorted[point_index1]=point_coordinates_sorted[point_index2]\n",
    "                    point_coordinates_sorted[point_index2]=temp\n",
    "            \n",
    "            \n",
    "    return  point_coordinates_sorted,angle_differences"
   ]
  },
  {
   "cell_type": "code",
   "execution_count": 585,
   "metadata": {},
   "outputs": [],
   "source": [
    "coordinates=np.array([[ 0.2045408 ,  -0.05421278],\n",
    "       [-0.2262057 ,  0.04454686]])"
   ]
  },
  {
   "cell_type": "code",
   "execution_count": 586,
   "metadata": {},
   "outputs": [
    {
     "data": {
      "image/png": "[encoded data removed]",
      "text/plain": [
       "<Figure size 432x288 with 1 Axes>"
      ]
     },
     "metadata": {
      "needs_background": "light"
     },
     "output_type": "display_data"
    }
   ],
   "source": [
    "coordinates_dict={i:coordinate for i,coordinate in enumerate(coordinates)}\n",
    "plt.scatter(coordinates[:,0],coordinates[:,1])\n",
    "\n",
    "for i,txt in enumerate(list(coordinates_dict.keys())):\n",
    "    plt.annotate(txt,(coordinates[i,0],coordinates[i,1]))"
   ]
  },
  {
   "cell_type": "code",
   "execution_count": 587,
   "metadata": {
    "scrolled": true
   },
   "outputs": [
    {
     "name": "stdout",
     "output_type": "stream",
     "text": [
      "[167.0866642866528, 347.08666428665276]\n",
      "[[[ 2.04540800e-01 -5.42127800e-02  3.47086664e+02]\n",
      "  [-2.26205700e-01  4.45468600e-02  1.67086664e+02]]]\n",
      "{'[-0.2262057   0.04454686]-[-0.2262057   0.04454686]': 0.0, '[-0.2262057   0.04454686]-[ 0.2045408  -0.05421278]': 179.99999999999997}\n",
      "flipping\n"
     ]
    }
   ],
   "source": [
    "sorted_coordinates,_=sort_points_filter(coordinates.reshape(1,len(coordinates)*2),len(coordinates))"
   ]
  },
  {
   "cell_type": "code",
   "execution_count": 588,
   "metadata": {},
   "outputs": [
    {
     "data": {
      "text/plain": [
       "array([[ 0.2045408 , -0.05421278],\n",
       "       [-0.2262057 ,  0.04454686]])"
      ]
     },
     "execution_count": 588,
     "metadata": {},
     "output_type": "execute_result"
    },
    {
     "data": {
      "image/png": "[encoded data removed]",
      "text/plain": [
       "<Figure size 432x288 with 1 Axes>"
      ]
     },
     "metadata": {
      "needs_background": "light"
     },
     "output_type": "display_data"
    }
   ],
   "source": [
    "sorted_coordinates_dict={i:coordinate for i,coordinate in enumerate(sorted_coordinates)}\n",
    "plt.scatter(sorted_coordinates[:,0],sorted_coordinates[:,1])\n",
    "\n",
    "for i,txt in enumerate(list(sorted_coordinates_dict.keys())):\n",
    "    plt.annotate(txt,(sorted_coordinates[i,0],sorted_coordinates[i,1]))\n",
    "    \n",
    "sorted_coordinates"
   ]
  },
  {
   "cell_type": "code",
   "execution_count": 503,
   "metadata": {},
   "outputs": [
    {
     "ename": "IndexError",
     "evalue": "index 2 is out of bounds for axis 0 with size 2",
     "output_type": "error",
     "traceback": [
      "\u001b[1;31m---------------------------------------------------------------------------\u001b[0m",
      "\u001b[1;31mIndexError\u001b[0m                                Traceback (most recent call last)",
      "\u001b[1;32m<ipython-input-503-061bfc2ba821>\u001b[0m in \u001b[0;36m<module>\u001b[1;34m\u001b[0m\n\u001b[0;32m      1\u001b[0m \u001b[0mt\u001b[0m\u001b[1;33m=\u001b[0m\u001b[0mnp\u001b[0m\u001b[1;33m.\u001b[0m\u001b[0mcopy\u001b[0m\u001b[1;33m(\u001b[0m\u001b[0msorted_coordinates\u001b[0m\u001b[1;33m[\u001b[0m\u001b[1;36m0\u001b[0m\u001b[1;33m]\u001b[0m\u001b[1;33m)\u001b[0m\u001b[1;33m\u001b[0m\u001b[0m\n\u001b[1;32m----> 2\u001b[1;33m \u001b[0msorted_coordinates\u001b[0m\u001b[1;33m[\u001b[0m\u001b[1;36m0\u001b[0m\u001b[1;33m]\u001b[0m\u001b[1;33m=\u001b[0m\u001b[0msorted_coordinates\u001b[0m\u001b[1;33m[\u001b[0m\u001b[1;36m2\u001b[0m\u001b[1;33m]\u001b[0m\u001b[1;33m\u001b[0m\u001b[0m\n\u001b[0m\u001b[0;32m      3\u001b[0m \u001b[0msorted_coordinates\u001b[0m\u001b[1;33m[\u001b[0m\u001b[1;36m2\u001b[0m\u001b[1;33m]\u001b[0m\u001b[1;33m=\u001b[0m\u001b[0mt\u001b[0m\u001b[1;33m\u001b[0m\u001b[0m\n",
      "\u001b[1;31mIndexError\u001b[0m: index 2 is out of bounds for axis 0 with size 2"
     ]
    }
   ],
   "source": [
    "t=np.copy(sorted_coordinates[0])\n",
    "sorted_coordinates[0]=sorted_coordinates[2]\n",
    "sorted_coordinates[2]=t"
   ]
  },
  {
   "cell_type": "code",
   "execution_count": 488,
   "metadata": {},
   "outputs": [
    {
     "data": {
      "text/plain": [
       "array([[-1.   ,  0.   ],\n",
       "       [ 0.2  ,  0.3  ],\n",
       "       [ 0.5  ,  0.025],\n",
       "       [ 0.5  , -0.025]])"
      ]
     },
     "execution_count": 488,
     "metadata": {},
     "output_type": "execute_result"
    }
   ],
   "source": [
    "sorted_coordinates"
   ]
  },
  {
   "cell_type": "code",
   "execution_count": 489,
   "metadata": {},
   "outputs": [],
   "source": [
    "distance_array=np.array([0.5055937104039172,0.3010398644698075 ])"
   ]
  },
  {
   "cell_type": "code",
   "execution_count": 490,
   "metadata": {},
   "outputs": [
    {
     "data": {
      "text/plain": [
       "array([[ 0.5  ,  0.025],\n",
       "       [ 0.5  , -0.025],\n",
       "       [-1.   ,  0.   ],\n",
       "       [ 0.2  ,  0.3  ]])"
      ]
     },
     "execution_count": 490,
     "metadata": {},
     "output_type": "execute_result"
    }
   ],
   "source": [
    "np.roll(sorted_coordinates,2,axis=0)"
   ]
  },
  {
   "cell_type": "code",
   "execution_count": 560,
   "metadata": {},
   "outputs": [],
   "source": [
    "A=np.array([1,3])"
   ]
  },
  {
   "cell_type": "code",
   "execution_count": 561,
   "metadata": {},
   "outputs": [
    {
     "data": {
      "text/plain": [
       "2"
      ]
     },
     "execution_count": 561,
     "metadata": {},
     "output_type": "execute_result"
    }
   ],
   "source": [
    "A.size"
   ]
  },
  {
   "cell_type": "code",
   "execution_count": null,
   "metadata": {},
   "outputs": [],
   "source": []
  },
  {
   "cell_type": "code",
   "execution_count": null,
   "metadata": {},
   "outputs": [],
   "source": []
  },
  {
   "cell_type": "code",
   "execution_count": null,
   "metadata": {},
   "outputs": [],
   "source": []
  },
  {
   "cell_type": "code",
   "execution_count": null,
   "metadata": {},
   "outputs": [],
   "source": []
  },
  {
   "cell_type": "code",
   "execution_count": null,
   "metadata": {},
   "outputs": [],
   "source": []
  },
  {
   "cell_type": "code",
   "execution_count": null,
   "metadata": {},
   "outputs": [],
   "source": []
  },
  {
   "cell_type": "code",
   "execution_count": null,
   "metadata": {},
   "outputs": [],
   "source": []
  },
  {
   "cell_type": "code",
   "execution_count": null,
   "metadata": {},
   "outputs": [],
   "source": []
  },
  {
   "cell_type": "code",
   "execution_count": null,
   "metadata": {},
   "outputs": [],
   "source": []
  },
  {
   "cell_type": "code",
   "execution_count": null,
   "metadata": {},
   "outputs": [],
   "source": []
  },
  {
   "cell_type": "code",
   "execution_count": null,
   "metadata": {},
   "outputs": [],
   "source": []
  }
 ],
 "metadata": {
  "kernelspec": {
   "display_name": "Python 3",
   "language": "python",
   "name": "python3"
  },
  "language_info": {
   "codemirror_mode": {
    "name": "ipython",
    "version": 3
   },
   "file_extension": ".py",
   "mimetype": "text/x-python",
   "name": "python",
   "nbconvert_exporter": "python",
   "pygments_lexer": "ipython3",
   "version": "3.6.9"
  }
 },
 "nbformat": 4,
 "nbformat_minor": 2
}
