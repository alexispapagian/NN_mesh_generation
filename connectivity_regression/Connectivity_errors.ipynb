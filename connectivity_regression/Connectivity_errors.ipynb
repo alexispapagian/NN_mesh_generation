{
 "cells": [
  {
   "cell_type": "code",
   "execution_count": 63,
   "metadata": {},
   "outputs": [],
   "source": [
    "import sys\n",
    "sys.path.insert(0, '../Triangulation/')\n",
    "sys.path.insert(0, '../network_datasets')\n",
    "\n"
   ]
  },
  {
   "cell_type": "code",
   "execution_count": 64,
   "metadata": {},
   "outputs": [],
   "source": [
    "from Triangulation import *\n",
    "from Neural_network import *\n",
    "import numpy as np\n",
    "\n",
    "from itertools import permutations\n",
    "from matplotlib import pyplot as plt\n",
    "from matplotlib.pyplot import triplot\n",
    "from numpy import pi,sin,cos,tan,sqrt\n",
    "from IPython.core.debugger import Tracer\n",
    "\n",
    "import triangle as tri\n",
    "import triangle\n",
    "import triangle.plot as plot\n",
    "\n",
    "\n",
    "from scipy.spatial import ConvexHull\n",
    "from matplotlib.path import Path\n",
    "\n",
    "import pickle\n",
    "\n",
    "\n",
    "\n",
    "import torch\n",
    "import torch.optim as optim\n",
    "\n",
    "import torch.nn as nn\n",
    "from torch.nn import init\n",
    "from torch.autograd import Variable\n",
    "import torch.nn.functional as F\n",
    "\n",
    "\n",
    "\n",
    "import cTimer as ctimer\n",
    "import time\n",
    "from timeit import default_timer as timer\n",
    "import pickle\n",
    "\n",
    "%matplotlib inline\n",
    "\n",
    "\n"
   ]
  },
  {
   "cell_type": "code",
   "execution_count": 65,
   "metadata": {},
   "outputs": [],
   "source": [
    "\n",
    "\n",
    "        \n",
    "def load_network(filename):\n",
    "    path=os.path.join('../network_datasets/',filename)\n",
    "        \n",
    "    with open(path,'rb') as input:\n",
    "        net=pickle.load(input)\n",
    "        \n",
    "    net.eval()\n",
    "    return net\n",
    "\n",
    "\n",
    "def save_network(filename,net):\n",
    "    path=os.path.join('../network_datasets/',filename)\n",
    "\n",
    "    with open(path,'wb') as output:\n",
    "        pickle.dump(net,output)"
   ]
  },
  {
   "cell_type": "code",
   "execution_count": 66,
   "metadata": {},
   "outputs": [],
   "source": [
    "#load polygon dataset\n",
    "\n",
    "Polygons,quality_matrices=load_dataset('6_polygons.pkl'),load_dataset('6_polygons_qualities_min.pkl')"
   ]
  },
  {
   "cell_type": "code",
   "execution_count": 67,
   "metadata": {},
   "outputs": [
    {
     "data": {
      "text/plain": [
       "12000"
      ]
     },
     "execution_count": 67,
     "metadata": {},
     "output_type": "execute_result"
    }
   ],
   "source": [
    "# Testing data are usually 20 percent of the whole\n",
    "\n",
    "nb_of_points=6\n",
    "nb_of_contours=int(Polygons.shape[0])\n",
    "\n",
    "nb_test_data=int(0.2*Polygons.shape[0])\n",
    "nb_training_data=int(Polygons.shape[0])-nb_test_data\n",
    "Polygons.shape[0]"
   ]
  },
  {
   "cell_type": "code",
   "execution_count": 68,
   "metadata": {},
   "outputs": [],
   "source": [
    "# Reshaping data for NN\n",
    "Polygons_reshaped=[]\n",
    "\n",
    "\n",
    "\n",
    "for i in range(nb_of_contours):\n",
    "    Polygons_reshaped.append(Polygons[i].reshape(2*nb_of_points))\n",
    "\n",
    "Polygons_reshaped=np.array(Polygons_reshaped) "
   ]
  },
  {
   "cell_type": "code",
   "execution_count": 69,
   "metadata": {},
   "outputs": [],
   "source": [
    "# Organizing data \n",
    "training_data = Polygons_reshaped[:nb_training_data]\n",
    "testing_data  = Polygons_reshaped[nb_training_data:]\n",
    "\n",
    "training_labels=quality_matrices[:nb_training_data]\n",
    "testing_labels=quality_matrices[nb_training_data:]\n"
   ]
  },
  {
   "cell_type": "code",
   "execution_count": 70,
   "metadata": {},
   "outputs": [],
   "source": [
    "# Convert to pytorch tensors\n",
    "\n",
    "x_tensor=torch.from_numpy(training_data).type(torch.FloatTensor)\n",
    "x_tensor_test=torch.from_numpy(testing_data).type(torch.FloatTensor)\n",
    "\n",
    "\n",
    "y_tensor=torch.from_numpy(training_labels).type(torch.FloatTensor)\n",
    "y_tensor_test=torch.from_numpy(testing_labels).type(torch.FloatTensor)\n",
    "\n",
    "\n",
    "# Convert to pytorch variables\n",
    "x_variable=Variable(x_tensor)\n",
    "x_variable_test=Variable(x_tensor_test)\n",
    "\n",
    "\n",
    "\n",
    "y_variable=Variable(y_tensor)\n",
    "y_variable=y_variable.resize(nb_training_data,nb_of_points*nb_of_points)\n",
    "\n",
    "\n",
    "y_variable_test=Variable(y_tensor_test)\n",
    "y_variable_test=y_variable_test.resize(nb_test_data,nb_of_points*nb_of_points)\n"
   ]
  },
  {
   "cell_type": "code",
   "execution_count": 71,
   "metadata": {},
   "outputs": [],
   "source": [
    "# NN\n",
    "my_net=Net(2*nb_of_points,nb_of_points*nb_of_points,nb_of_hidden_layers=3,\n",
    "           nb_of_hidden_nodes=2*(nb_of_points**2),batch_normalization=True)\n"
   ]
  },
  {
   "cell_type": "code",
   "execution_count": 72,
   "metadata": {},
   "outputs": [],
   "source": [
    "# Optimization method and loss function\n",
    "optimizer = torch.optim.Adam(my_net.parameters(), lr=1e-3,weight_decay=0.2)\n",
    "\n",
    "loss_func = torch.nn.MSELoss(size_average=False)  "
   ]
  },
  {
   "cell_type": "code",
   "execution_count": 90,
   "metadata": {},
   "outputs": [
    {
     "name": "stdout",
     "output_type": "stream",
     "text": [
      "cuda activated\n"
     ]
    }
   ],
   "source": [
    "# Copying data to GPU\n",
    "if  torch.cuda.is_available():\n",
    "    my_net.cuda()\n",
    "    loss_func.cuda()\n",
    "    x_variable , y_variable = x_variable.cuda(), y_variable.cuda()\n",
    "    x_variable_test , y_variable_test = x_variable_test.cuda(), y_variable_test.cuda()\n",
    "    print(\"cuda activated\")"
   ]
  },
  {
   "cell_type": "code",
   "execution_count": 91,
   "metadata": {},
   "outputs": [
    {
     "name": "stdout",
     "output_type": "stream",
     "text": [
      "Epoch: 0 Training Loss: 0.11227750425537428 Test Loss: 0.055323333740234376\n",
      "Epoch: 1 Training Loss: 0.08545830344160397 Test Loss: 0.06332272211710611\n",
      "Epoch: 2 Training Loss: 0.07569884618123372 Test Loss: 0.06293265024820964\n",
      "Epoch: 3 Training Loss: 0.07333379189173381 Test Loss: 0.06371010462443034\n",
      "Epoch: 4 Training Loss: 0.07228894352912903 Test Loss: 0.06426785786946615\n",
      "Epoch: 5 Training Loss: 0.0717785225311915 Test Loss: 0.06505860010782878\n",
      "Epoch: 6 Training Loss: 0.07150682578484217 Test Loss: 0.06573928833007812\n",
      "Epoch: 7 Training Loss: 0.0714383269349734 Test Loss: 0.0660732396443685\n",
      "Epoch: 8 Training Loss: 0.071222821722428 Test Loss: 0.06670950571695963\n",
      "Epoch: 9 Training Loss: 0.07123016059398651 Test Loss: 0.06658041636149088\n",
      "Epoch: 10 Training Loss: 0.07121012265483538 Test Loss: 0.06701820373535156\n",
      "Epoch: 11 Training Loss: 0.0712261338531971 Test Loss: 0.06767025629679362\n",
      "Epoch: 12 Training Loss: 0.07133740698297819 Test Loss: 0.06773098627726237\n",
      "Epoch: 13 Training Loss: 0.07128132631381352 Test Loss: 0.06793746948242188\n",
      "Epoch: 14 Training Loss: 0.0712758557498455 Test Loss: 0.06805444081624348\n",
      "Epoch: 15 Training Loss: 0.07128462170561155 Test Loss: 0.0684895133972168\n",
      "Epoch: 16 Training Loss: 0.07137829254070918 Test Loss: 0.06859375635782877\n",
      "Epoch: 17 Training Loss: 0.07137997736533483 Test Loss: 0.06859270095825196\n",
      "Epoch: 18 Training Loss: 0.07133133461078008 Test Loss: 0.06878929773966472\n",
      "Epoch: 19 Training Loss: 0.07134464393059413 Test Loss: 0.06841482162475586\n",
      "Epoch: 20 Training Loss: 0.0713268197576205 Test Loss: 0.06907668431599935\n",
      "Epoch: 21 Training Loss: 0.07134643897414207 Test Loss: 0.06893554051717123\n",
      "Epoch: 22 Training Loss: 0.07126404404640198 Test Loss: 0.06900423685709635\n",
      "Epoch: 23 Training Loss: 0.07135872219999631 Test Loss: 0.06944960276285807\n",
      "Epoch: 24 Training Loss: 0.07139378805955252 Test Loss: 0.0696268081665039\n",
      "Epoch: 25 Training Loss: 0.07138153846065204 Test Loss: 0.06934407552083334\n",
      "Epoch: 26 Training Loss: 0.07137137040495872 Test Loss: 0.06902793248494467\n",
      "Epoch: 27 Training Loss: 0.07130583251516025 Test Loss: 0.06916791280110678\n",
      "Epoch: 28 Training Loss: 0.07135452061891556 Test Loss: 0.06918701807657877\n",
      "Epoch: 29 Training Loss: 0.07139195372660954 Test Loss: 0.06940322240193685\n",
      "Epoch: 30 Training Loss: 0.07127268970012665 Test Loss: 0.06945831298828126\n",
      "Epoch: 31 Training Loss: 0.07134531666835149 Test Loss: 0.06962699254353841\n",
      "Epoch: 32 Training Loss: 0.07133412962158521 Test Loss: 0.06939431508382161\n",
      "Epoch: 33 Training Loss: 0.07134807666142781 Test Loss: 0.06987796783447266\n",
      "Epoch: 34 Training Loss: 0.07127328619360923 Test Loss: 0.06921827316284179\n",
      "Epoch: 35 Training Loss: 0.07133949607610703 Test Loss: 0.06959388732910156\n",
      "Epoch: 36 Training Loss: 0.07120122010509174 Test Loss: 0.06884372711181641\n",
      "Epoch: 37 Training Loss: 0.07115816528598468 Test Loss: 0.06938912073771158\n",
      "Epoch: 38 Training Loss: 0.07117902586857477 Test Loss: 0.06930328369140625\n",
      "Epoch: 39 Training Loss: 0.07119224558273951 Test Loss: 0.06931156158447266\n",
      "Epoch: 40 Training Loss: 0.0712072174747785 Test Loss: 0.06912985483805338\n",
      "Epoch: 41 Training Loss: 0.07126663779218992 Test Loss: 0.06918906529744466\n",
      "Epoch: 42 Training Loss: 0.07130753795305887 Test Loss: 0.06949484507242838\n",
      "Epoch: 43 Training Loss: 0.0712169648706913 Test Loss: 0.06898412704467774\n",
      "Epoch: 44 Training Loss: 0.0711652355392774 Test Loss: 0.06893716812133789\n",
      "Epoch: 45 Training Loss: 0.07122147818406423 Test Loss: 0.06898274103800456\n",
      "Epoch: 46 Training Loss: 0.07114095762372016 Test Loss: 0.06922444025675456\n",
      "Epoch: 47 Training Loss: 0.07112219835321108 Test Loss: 0.06910291035970052\n",
      "Epoch: 48 Training Loss: 0.07121303041776021 Test Loss: 0.06890772501627604\n",
      "Epoch: 49 Training Loss: 0.07110754777987797 Test Loss: 0.06918549219767253\n",
      "Epoch: 50 Training Loss: 0.07122536182403565 Test Loss: 0.06988931020100911\n",
      "Epoch: 51 Training Loss: 0.07112221643328667 Test Loss: 0.06889856338500977\n",
      "Epoch: 52 Training Loss: 0.0711521348853906 Test Loss: 0.06967487335205078\n",
      "Epoch: 53 Training Loss: 0.07114199861884117 Test Loss: 0.06979455312093098\n",
      "Epoch: 54 Training Loss: 0.0711483572423458 Test Loss: 0.0700830078125\n",
      "Epoch: 55 Training Loss: 0.07110374962290128 Test Loss: 0.06942537307739258\n",
      "Epoch: 56 Training Loss: 0.07114023253321648 Test Loss: 0.06973489125569661\n",
      "Epoch: 57 Training Loss: 0.07117760186394055 Test Loss: 0.06989839553833008\n",
      "Epoch: 58 Training Loss: 0.07117983664075533 Test Loss: 0.07025821050008138\n",
      "Epoch: 59 Training Loss: 0.07112079352140427 Test Loss: 0.06984294891357422\n",
      "Epoch: 60 Training Loss: 0.07122495576739311 Test Loss: 0.06980955123901367\n",
      "Epoch: 61 Training Loss: 0.07116241455078125 Test Loss: 0.06995508193969727\n",
      "Epoch: 62 Training Loss: 0.07116423596938451 Test Loss: 0.07016274134318033\n",
      "Epoch: 63 Training Loss: 0.07121311729152997 Test Loss: 0.07000419616699219\n",
      "Epoch: 64 Training Loss: 0.0711701866487662 Test Loss: 0.07017258326212565\n",
      "Epoch: 65 Training Loss: 0.07104667007923127 Test Loss: 0.06982668558756511\n",
      "Epoch: 66 Training Loss: 0.07116186782717705 Test Loss: 0.07034524281819661\n",
      "Epoch: 67 Training Loss: 0.07116976787646612 Test Loss: 0.0704150644938151\n",
      "Epoch: 68 Training Loss: 0.07117917130390804 Test Loss: 0.07037436803181966\n",
      "Epoch: 69 Training Loss: 0.07129022712508837 Test Loss: 0.07058191299438477\n",
      "Epoch: 70 Training Loss: 0.07119278853138288 Test Loss: 0.07081602096557617\n",
      "Epoch: 71 Training Loss: 0.07124401758114497 Test Loss: 0.07034497578938802\n",
      "Epoch: 72 Training Loss: 0.07117222542564074 Test Loss: 0.07051848729451497\n",
      "Epoch: 73 Training Loss: 0.07125794763366382 Test Loss: 0.07034399668375652\n",
      "Epoch: 74 Training Loss: 0.07123263016343116 Test Loss: 0.07066654841105144\n",
      "Epoch: 75 Training Loss: 0.07121617550651232 Test Loss: 0.0708446184794108\n",
      "Epoch: 76 Training Loss: 0.0711593770980835 Test Loss: 0.07069819768269857\n",
      "Epoch: 77 Training Loss: 0.0710981432100137 Test Loss: 0.07044935862223307\n",
      "Epoch: 78 Training Loss: 0.0710818853477637 Test Loss: 0.0701177151997884\n",
      "Epoch: 79 Training Loss: 0.07113135879238447 Test Loss: 0.07064857482910156\n",
      "Epoch: 80 Training Loss: 0.07115585496028265 Test Loss: 0.07058232625325521\n",
      "Epoch: 81 Training Loss: 0.07112665683031082 Test Loss: 0.07044631322224935\n",
      "Epoch: 82 Training Loss: 0.07115210056304931 Test Loss: 0.0705821673075358\n",
      "Epoch: 83 Training Loss: 0.07108167603611946 Test Loss: 0.07082127253214518\n",
      "Epoch: 84 Training Loss: 0.07121802146236102 Test Loss: 0.07020291646321615\n",
      "Epoch: 85 Training Loss: 0.07118802125255266 Test Loss: 0.07040962219238281\n",
      "Epoch: 86 Training Loss: 0.0712192356089751 Test Loss: 0.07011494954427083\n",
      "Epoch: 87 Training Loss: 0.0710894875228405 Test Loss: 0.07020814259847005\n",
      "Epoch: 88 Training Loss: 0.0711762631436189 Test Loss: 0.07103638331095377\n",
      "Epoch: 89 Training Loss: 0.07108437389135361 Test Loss: 0.07024728139241536\n",
      "Epoch: 90 Training Loss: 0.07109995841979981 Test Loss: 0.07052209854125976\n",
      "Epoch: 91 Training Loss: 0.0710594430565834 Test Loss: 0.07021228154500325\n",
      "Epoch: 92 Training Loss: 0.07118337204058965 Test Loss: 0.07057563781738281\n",
      "Epoch: 93 Training Loss: 0.07114508847395579 Test Loss: 0.07063625335693359\n",
      "Epoch: 94 Training Loss: 0.07111125702659289 Test Loss: 0.07078673680623372\n",
      "Epoch: 95 Training Loss: 0.0711125794549783 Test Loss: 0.07064411799112956\n",
      "Epoch: 96 Training Loss: 0.07105894620219866 Test Loss: 0.07056458155314127\n",
      "Epoch: 97 Training Loss: 0.07095791677633921 Test Loss: 0.07016546885172525\n",
      "Epoch: 98 Training Loss: 0.07094906022151311 Test Loss: 0.07064253489176432\n",
      "Epoch: 99 Training Loss: 0.07105739469329517 Test Loss: 0.06994478861490885\n",
      "Epoch: 100 Training Loss: 0.07101389537254969 Test Loss: 0.06978367487589518\n",
      "Epoch: 101 Training Loss: 0.07097208509842555 Test Loss: 0.06963172912597657\n",
      "Epoch: 102 Training Loss: 0.07098360990484555 Test Loss: 0.07003430684407552\n",
      "Epoch: 103 Training Loss: 0.0710512325167656 Test Loss: 0.07003201802571614\n",
      "Epoch: 104 Training Loss: 0.07100555290778478 Test Loss: 0.07006216049194336\n",
      "Epoch: 105 Training Loss: 0.07094495937228203 Test Loss: 0.06986534118652343\n",
      "Epoch: 106 Training Loss: 0.07104051525394121 Test Loss: 0.06971764246622722\n",
      "Epoch: 107 Training Loss: 0.07098175674676895 Test Loss: 0.06984137217203776\n",
      "Epoch: 108 Training Loss: 0.07096211011211077 Test Loss: 0.06958822886149088\n"
     ]
    },
    {
     "name": "stdout",
     "output_type": "stream",
     "text": [
      "Epoch: 109 Training Loss: 0.07094886586070061 Test Loss: 0.06989733378092448\n",
      "Epoch: 110 Training Loss: 0.07099543089667956 Test Loss: 0.0697392717997233\n",
      "Epoch: 111 Training Loss: 0.07098775456349055 Test Loss: 0.07017804463704427\n",
      "Epoch: 112 Training Loss: 0.07099214295546213 Test Loss: 0.07029392878214519\n",
      "Epoch: 113 Training Loss: 0.07106418172518413 Test Loss: 0.07040530522664389\n",
      "Epoch: 114 Training Loss: 0.07093032628297806 Test Loss: 0.06973086039225261\n",
      "Epoch: 115 Training Loss: 0.07102555920680365 Test Loss: 0.0703969955444336\n",
      "Epoch: 116 Training Loss: 0.07104583253463109 Test Loss: 0.0699028714497884\n",
      "Epoch: 117 Training Loss: 0.071059839874506 Test Loss: 0.06991637547810872\n",
      "Epoch: 118 Training Loss: 0.07113022277752558 Test Loss: 0.07009073893229166\n",
      "Epoch: 119 Training Loss: 0.07098403533299764 Test Loss: 0.0696387545267741\n",
      "Epoch: 120 Training Loss: 0.07086915194988251 Test Loss: 0.07009939193725585\n",
      "Epoch: 121 Training Loss: 0.07089117308457693 Test Loss: 0.06971921920776367\n",
      "Epoch: 122 Training Loss: 0.0709664617975553 Test Loss: 0.07027702967325847\n",
      "Epoch: 123 Training Loss: 0.07090655758976937 Test Loss: 0.06964590072631836\n",
      "Epoch: 124 Training Loss: 0.07094300384322802 Test Loss: 0.07027272542317708\n",
      "Epoch: 125 Training Loss: 0.07088756620883942 Test Loss: 0.07002037048339843\n",
      "Epoch: 126 Training Loss: 0.07095219552516938 Test Loss: 0.07032052357991536\n",
      "Epoch: 127 Training Loss: 0.07095797548691432 Test Loss: 0.06977189381917318\n",
      "Epoch: 128 Training Loss: 0.07081940447290738 Test Loss: 0.06982468922932943\n",
      "Epoch: 129 Training Loss: 0.07086124365528425 Test Loss: 0.07016826629638671\n",
      "Epoch: 130 Training Loss: 0.07112439508239428 Test Loss: 0.07005133310953776\n",
      "Epoch: 131 Training Loss: 0.07097996140519779 Test Loss: 0.06983921686808268\n",
      "Epoch: 132 Training Loss: 0.07105520372589429 Test Loss: 0.07009995142618815\n",
      "Epoch: 133 Training Loss: 0.07103154102961222 Test Loss: 0.07024347305297851\n",
      "Epoch: 134 Training Loss: 0.07091115737954776 Test Loss: 0.07055463790893554\n",
      "Epoch: 135 Training Loss: 0.07097665185729662 Test Loss: 0.06980727513631185\n",
      "Epoch: 136 Training Loss: 0.07091099952658017 Test Loss: 0.06981973012288412\n",
      "Epoch: 137 Training Loss: 0.07092994650204977 Test Loss: 0.06976529439290365\n",
      "Epoch: 138 Training Loss: 0.07106886317332585 Test Loss: 0.07030453364054362\n",
      "Epoch: 139 Training Loss: 0.07106576666235924 Test Loss: 0.07052422205607096\n",
      "Epoch: 140 Training Loss: 0.07092587918043136 Test Loss: 0.0693317476908366\n",
      "Epoch: 141 Training Loss: 0.07091149300336838 Test Loss: 0.07025123596191406\n",
      "Epoch: 142 Training Loss: 0.07096217249830564 Test Loss: 0.06981742223103841\n",
      "Epoch: 143 Training Loss: 0.07094668736060461 Test Loss: 0.06964492162068685\n",
      "Epoch: 144 Training Loss: 0.07093046555916468 Test Loss: 0.06981892267862956\n",
      "Epoch: 145 Training Loss: 0.07100272347529729 Test Loss: 0.06993308385213216\n",
      "Epoch: 146 Training Loss: 0.07098415141304334 Test Loss: 0.06969029744466146\n",
      "Epoch: 147 Training Loss: 0.07093544527888299 Test Loss: 0.0697774887084961\n",
      "Epoch: 148 Training Loss: 0.07092474574844042 Test Loss: 0.07017646153767904\n",
      "Epoch: 149 Training Loss: 0.07092081998785336 Test Loss: 0.06969098409016927\n",
      "Epoch: 150 Training Loss: 0.07097009107470513 Test Loss: 0.07006895701090494\n",
      "Epoch: 151 Training Loss: 0.07099825064341227 Test Loss: 0.06999589284261068\n",
      "Epoch: 152 Training Loss: 0.07095275272925695 Test Loss: 0.07036970774332682\n",
      "Epoch: 153 Training Loss: 0.07109783386190732 Test Loss: 0.0702077611287435\n",
      "Epoch: 154 Training Loss: 0.07087087298432986 Test Loss: 0.06969425201416016\n",
      "Epoch: 155 Training Loss: 0.07082661251227061 Test Loss: 0.06974016189575195\n",
      "Epoch: 156 Training Loss: 0.07085261424382527 Test Loss: 0.07035374323527019\n",
      "Epoch: 157 Training Loss: 0.07087341591715812 Test Loss: 0.070142396291097\n",
      "Epoch: 158 Training Loss: 0.07082012658317884 Test Loss: 0.07052529017130534\n",
      "Epoch: 159 Training Loss: 0.07082066873709361 Test Loss: 0.06988663991292318\n",
      "Epoch: 160 Training Loss: 0.07085515677928925 Test Loss: 0.06996285756429037\n",
      "Epoch: 161 Training Loss: 0.07084237530827522 Test Loss: 0.0700877571105957\n",
      "Epoch: 162 Training Loss: 0.0709100167453289 Test Loss: 0.07014575958251953\n",
      "Epoch: 163 Training Loss: 0.07083612148960432 Test Loss: 0.0694701639811198\n",
      "Epoch: 164 Training Loss: 0.07086526041229566 Test Loss: 0.07021207173665364\n",
      "Epoch: 165 Training Loss: 0.07098157023390134 Test Loss: 0.07029268264770508\n",
      "Epoch: 166 Training Loss: 0.07093987137079238 Test Loss: 0.07061139424641927\n",
      "Epoch: 167 Training Loss: 0.07096706082423528 Test Loss: 0.07038300196329753\n",
      "Epoch: 168 Training Loss: 0.07091535225510598 Test Loss: 0.0696516227722168\n",
      "Epoch: 169 Training Loss: 0.07097149044275283 Test Loss: 0.06969603856404623\n",
      "Epoch: 170 Training Loss: 0.07077039842804272 Test Loss: 0.06993947347005208\n",
      "Epoch: 171 Training Loss: 0.07084409912427267 Test Loss: 0.07000705718994141\n",
      "Epoch: 172 Training Loss: 0.07082497075200081 Test Loss: 0.06971628189086915\n",
      "Epoch: 173 Training Loss: 0.07095150570074717 Test Loss: 0.06986512502034505\n",
      "Epoch: 174 Training Loss: 0.0707992933690548 Test Loss: 0.06984226862589518\n",
      "Epoch: 175 Training Loss: 0.07084579517443974 Test Loss: 0.07013680775960286\n",
      "Epoch: 176 Training Loss: 0.07082738265395165 Test Loss: 0.06990528742472331\n",
      "Epoch: 177 Training Loss: 0.07085147276520729 Test Loss: 0.06989871342976887\n",
      "Epoch: 178 Training Loss: 0.07081854343414307 Test Loss: 0.06980679194132487\n",
      "Epoch: 179 Training Loss: 0.07074974939227104 Test Loss: 0.06974955240885417\n",
      "Epoch: 180 Training Loss: 0.07080226838588714 Test Loss: 0.07020491282145182\n",
      "Epoch: 181 Training Loss: 0.07086431160569191 Test Loss: 0.07012734731038411\n",
      "Epoch: 182 Training Loss: 0.07084170614679654 Test Loss: 0.07052778879801433\n",
      "Epoch: 183 Training Loss: 0.0708334568142891 Test Loss: 0.07086673100789388\n",
      "Epoch: 184 Training Loss: 0.07085473130146662 Test Loss: 0.07037275950113932\n",
      "Epoch: 185 Training Loss: 0.07084138701359431 Test Loss: 0.07034553527832031\n",
      "Epoch: 186 Training Loss: 0.07082960079113643 Test Loss: 0.07057006200154622\n",
      "Epoch: 187 Training Loss: 0.07072462568680446 Test Loss: 0.06987830479939779\n",
      "Epoch: 188 Training Loss: 0.07073287963867188 Test Loss: 0.07027003606160481\n",
      "Epoch: 189 Training Loss: 0.07072599704066912 Test Loss: 0.07038420359293619\n",
      "Epoch: 190 Training Loss: 0.07075455352663994 Test Loss: 0.07035405476888021\n",
      "Epoch: 191 Training Loss: 0.07071748301386833 Test Loss: 0.07030033747355144\n",
      "Epoch: 192 Training Loss: 0.07074025273323059 Test Loss: 0.0707839584350586\n",
      "Epoch: 193 Training Loss: 0.07072219759225845 Test Loss: 0.07044670104980469\n",
      "Epoch: 194 Training Loss: 0.07070276657740275 Test Loss: 0.0704771614074707\n",
      "Epoch: 195 Training Loss: 0.07064806953072549 Test Loss: 0.07024569193522136\n",
      "Epoch: 196 Training Loss: 0.07061852862437566 Test Loss: 0.07062035242716472\n",
      "Epoch: 197 Training Loss: 0.07075035775701205 Test Loss: 0.0707757568359375\n",
      "Epoch: 198 Training Loss: 0.07086318969726563 Test Loss: 0.07085279464721679\n",
      "Epoch: 199 Training Loss: 0.07074473703900973 Test Loss: 0.07062514623006184\n",
      "Epoch: 200 Training Loss: 0.07079077566663425 Test Loss: 0.07074715296427408\n",
      "Epoch: 201 Training Loss: 0.07084870338439941 Test Loss: 0.07068464914957683\n",
      "Epoch: 202 Training Loss: 0.07083473334709803 Test Loss: 0.07056169509887696\n",
      "Epoch: 203 Training Loss: 0.07072065075238546 Test Loss: 0.07092707951863607\n",
      "Epoch: 204 Training Loss: 0.07083215922117234 Test Loss: 0.07104249318440756\n",
      "Epoch: 205 Training Loss: 0.07081095938881238 Test Loss: 0.07066627502441407\n",
      "Epoch: 206 Training Loss: 0.07079594155152638 Test Loss: 0.07072238286336263\n",
      "Epoch: 207 Training Loss: 0.07077925011515618 Test Loss: 0.07129472096761068\n",
      "Epoch: 208 Training Loss: 0.07082161461313566 Test Loss: 0.07087900161743164\n",
      "Epoch: 209 Training Loss: 0.07082614704966544 Test Loss: 0.0704936663309733\n",
      "Epoch: 210 Training Loss: 0.07078211123744647 Test Loss: 0.07037479400634766\n",
      "Epoch: 211 Training Loss: 0.07081265528996786 Test Loss: 0.07023071924845378\n",
      "Epoch: 212 Training Loss: 0.07087083354592323 Test Loss: 0.07051352183024089\n",
      "Epoch: 213 Training Loss: 0.07072510495781899 Test Loss: 0.07023734410603841\n",
      "Epoch: 214 Training Loss: 0.07073833684126536 Test Loss: 0.06968613306681315\n",
      "Epoch: 215 Training Loss: 0.07081005081534386 Test Loss: 0.07018792470296224\n"
     ]
    },
    {
     "name": "stdout",
     "output_type": "stream",
     "text": [
      "Epoch: 216 Training Loss: 0.07082706967989603 Test Loss: 0.07012601216634115\n",
      "Epoch: 217 Training Loss: 0.07068771228194237 Test Loss: 0.06967453002929687\n",
      "Epoch: 218 Training Loss: 0.07071059743563333 Test Loss: 0.06932626088460286\n",
      "Epoch: 219 Training Loss: 0.07062989428639412 Test Loss: 0.06970200220743815\n",
      "Epoch: 220 Training Loss: 0.07075604170560837 Test Loss: 0.06967173258463542\n",
      "Epoch: 221 Training Loss: 0.07074541101853053 Test Loss: 0.07002169291178385\n",
      "Epoch: 222 Training Loss: 0.07059554840127627 Test Loss: 0.06966169357299805\n",
      "Epoch: 223 Training Loss: 0.07074053714672725 Test Loss: 0.0703937021891276\n",
      "Epoch: 224 Training Loss: 0.07071512733896573 Test Loss: 0.07000004450480143\n",
      "Epoch: 225 Training Loss: 0.07066106880704562 Test Loss: 0.07009462356567382\n",
      "Epoch: 226 Training Loss: 0.0705607012907664 Test Loss: 0.0695849355061849\n",
      "Epoch: 227 Training Loss: 0.07057104562719663 Test Loss: 0.07014553705851237\n",
      "Epoch: 228 Training Loss: 0.07067303955554963 Test Loss: 0.0703087870279948\n",
      "Epoch: 229 Training Loss: 0.07070457970102628 Test Loss: 0.07022527058919271\n",
      "Epoch: 230 Training Loss: 0.07064675490061442 Test Loss: 0.07040767669677735\n",
      "Epoch: 231 Training Loss: 0.0707636668284734 Test Loss: 0.07034600575764974\n",
      "Epoch: 232 Training Loss: 0.07062602867682775 Test Loss: 0.07010424931844075\n",
      "Epoch: 233 Training Loss: 0.07067675968011221 Test Loss: 0.07016449610392253\n",
      "Epoch: 234 Training Loss: 0.07072966446479162 Test Loss: 0.07022406895955403\n",
      "Epoch: 235 Training Loss: 0.0706359513103962 Test Loss: 0.07049862543741862\n",
      "Epoch: 236 Training Loss: 0.07067598963777225 Test Loss: 0.07031417846679687\n",
      "Epoch: 237 Training Loss: 0.07067483688394229 Test Loss: 0.07028316497802735\n",
      "Epoch: 238 Training Loss: 0.07084308827916781 Test Loss: 0.0705343755086263\n",
      "Epoch: 239 Training Loss: 0.07068954686323801 Test Loss: 0.07029548009236654\n",
      "Epoch: 240 Training Loss: 0.0706873149673144 Test Loss: 0.07015881856282552\n",
      "Epoch: 241 Training Loss: 0.07073593318462372 Test Loss: 0.06992446263631184\n",
      "Epoch: 242 Training Loss: 0.07073481326301892 Test Loss: 0.06995437622070312\n",
      "Epoch: 243 Training Loss: 0.0708786237736543 Test Loss: 0.0699258550008138\n",
      "Epoch: 244 Training Loss: 0.0706752389172713 Test Loss: 0.07018663406372071\n",
      "Epoch: 245 Training Loss: 0.07075786039233208 Test Loss: 0.06988269805908204\n",
      "Epoch: 246 Training Loss: 0.07070544853806496 Test Loss: 0.069659849802653\n",
      "Epoch: 247 Training Loss: 0.07066946744918823 Test Loss: 0.06960500081380208\n",
      "Epoch: 248 Training Loss: 0.07064420675237973 Test Loss: 0.06994475682576497\n",
      "Epoch: 249 Training Loss: 0.07066149805982908 Test Loss: 0.06921844482421875\n",
      "Epoch: 250 Training Loss: 0.0706997312605381 Test Loss: 0.06962949752807618\n",
      "Epoch: 251 Training Loss: 0.07065384328365326 Test Loss: 0.06976353327433268\n",
      "Epoch: 252 Training Loss: 0.07068390940626462 Test Loss: 0.06978811899820964\n",
      "Epoch: 253 Training Loss: 0.07074420551458994 Test Loss: 0.06947664896647135\n",
      "Epoch: 254 Training Loss: 0.07066648215055465 Test Loss: 0.0698257319132487\n",
      "Epoch: 255 Training Loss: 0.07072085564335187 Test Loss: 0.06964508056640625\n",
      "Epoch: 256 Training Loss: 0.07073268885413805 Test Loss: 0.06985800425211589\n",
      "Epoch: 257 Training Loss: 0.07068559537331263 Test Loss: 0.06952298482259114\n",
      "Epoch: 258 Training Loss: 0.0706080577770869 Test Loss: 0.06989554087320964\n",
      "Epoch: 259 Training Loss: 0.07058494319518407 Test Loss: 0.06990072886149089\n",
      "Epoch: 260 Training Loss: 0.07059367572267851 Test Loss: 0.06992635091145834\n",
      "Epoch: 261 Training Loss: 0.07052935888369878 Test Loss: 0.06998212178548177\n",
      "Epoch: 262 Training Loss: 0.07051957095662753 Test Loss: 0.07026864369710287\n",
      "Epoch: 263 Training Loss: 0.07047387445966402 Test Loss: 0.07018786748250326\n",
      "Epoch: 264 Training Loss: 0.07051951974630356 Test Loss: 0.07017294565836589\n",
      "Epoch: 265 Training Loss: 0.0704774585366249 Test Loss: 0.07029115041097005\n",
      "Epoch: 266 Training Loss: 0.07043450812498729 Test Loss: 0.06980227788289388\n",
      "Epoch: 267 Training Loss: 0.07045671477913856 Test Loss: 0.06977028528849284\n",
      "Epoch: 268 Training Loss: 0.0704288278023402 Test Loss: 0.06990994771321614\n",
      "Epoch: 269 Training Loss: 0.07042103116710981 Test Loss: 0.06989875793457032\n",
      "Epoch: 270 Training Loss: 0.07047871003548305 Test Loss: 0.07007448196411133\n",
      "Epoch: 271 Training Loss: 0.07038291782140732 Test Loss: 0.07063852945963542\n",
      "Epoch: 272 Training Loss: 0.07053054526448249 Test Loss: 0.07035924911499024\n",
      "Epoch: 273 Training Loss: 0.07044052630662918 Test Loss: 0.07003708521525065\n",
      "Epoch: 274 Training Loss: 0.07049838369091352 Test Loss: 0.06974451065063476\n",
      "Epoch: 275 Training Loss: 0.07048962409297625 Test Loss: 0.0706536610921224\n",
      "Epoch: 276 Training Loss: 0.07038717711965244 Test Loss: 0.069933656056722\n",
      "Epoch: 277 Training Loss: 0.07042563120524088 Test Loss: 0.06928770701090495\n",
      "Epoch: 278 Training Loss: 0.07048782542347908 Test Loss: 0.06963113149007162\n",
      "Epoch: 279 Training Loss: 0.0703590427339077 Test Loss: 0.06936605453491211\n",
      "Epoch: 280 Training Loss: 0.07034671828150749 Test Loss: 0.06963788350423177\n",
      "Epoch: 281 Training Loss: 0.07037016436457634 Test Loss: 0.06999944686889649\n",
      "Epoch: 282 Training Loss: 0.07045420800646146 Test Loss: 0.06941619237263998\n",
      "Epoch: 283 Training Loss: 0.07033169984817506 Test Loss: 0.07065331141153972\n",
      "Epoch: 284 Training Loss: 0.07037535230318705 Test Loss: 0.06989132563273112\n",
      "Epoch: 285 Training Loss: 0.07031029284000397 Test Loss: 0.07040340423583985\n",
      "Epoch: 286 Training Loss: 0.07041465580463409 Test Loss: 0.07043863296508789\n",
      "Epoch: 287 Training Loss: 0.07025666723648707 Test Loss: 0.07000842412312826\n",
      "Epoch: 288 Training Loss: 0.07031034797430039 Test Loss: 0.06965630213419596\n",
      "Epoch: 289 Training Loss: 0.07032700846592585 Test Loss: 0.07044343948364258\n",
      "Epoch: 290 Training Loss: 0.07031278312206268 Test Loss: 0.0697414779663086\n",
      "Epoch: 291 Training Loss: 0.07025753165284793 Test Loss: 0.06986584981282552\n",
      "Epoch: 292 Training Loss: 0.07029323031504948 Test Loss: 0.07011099497477213\n",
      "Epoch: 293 Training Loss: 0.07024116476376852 Test Loss: 0.0701913833618164\n",
      "Epoch: 294 Training Loss: 0.0702504553894202 Test Loss: 0.07012451171875\n",
      "Epoch: 295 Training Loss: 0.07027571767568588 Test Loss: 0.07007526397705079\n",
      "Epoch: 296 Training Loss: 0.0702217639485995 Test Loss: 0.06937735875447591\n",
      "Epoch: 297 Training Loss: 0.07030347123742103 Test Loss: 0.07055627822875976\n",
      "Epoch: 298 Training Loss: 0.07028983677426974 Test Loss: 0.07057421366373698\n",
      "Epoch: 299 Training Loss: 0.0701708142956098 Test Loss: 0.07013907114664714\n",
      "Epoch: 300 Training Loss: 0.07031926363706589 Test Loss: 0.06997708002726237\n",
      "Epoch: 301 Training Loss: 0.07023015608390172 Test Loss: 0.07074801127115886\n",
      "Epoch: 302 Training Loss: 0.07024811665217082 Test Loss: 0.0712714449564616\n",
      "Epoch: 303 Training Loss: 0.07022783050934474 Test Loss: 0.07094523111979166\n",
      "Epoch: 304 Training Loss: 0.07022922441363334 Test Loss: 0.07072097778320313\n",
      "Epoch: 305 Training Loss: 0.07033476447065672 Test Loss: 0.07060330708821615\n",
      "Epoch: 306 Training Loss: 0.07027100309729577 Test Loss: 0.07031426747639974\n",
      "Epoch: 307 Training Loss: 0.07018809229135513 Test Loss: 0.07014509836832682\n",
      "Epoch: 308 Training Loss: 0.07019771258036296 Test Loss: 0.07032655715942383\n",
      "Epoch: 309 Training Loss: 0.07026858985424042 Test Loss: 0.07028001149495443\n",
      "Epoch: 310 Training Loss: 0.07022456710537274 Test Loss: 0.07005910237630208\n",
      "Epoch: 311 Training Loss: 0.07030128632982571 Test Loss: 0.07036998748779297\n",
      "Epoch: 312 Training Loss: 0.07030778353412946 Test Loss: 0.07001719792683919\n",
      "Epoch: 313 Training Loss: 0.07020204474528631 Test Loss: 0.07022705713907877\n",
      "Epoch: 314 Training Loss: 0.07018176421523094 Test Loss: 0.06936807632446289\n",
      "Epoch: 315 Training Loss: 0.07023333897193274 Test Loss: 0.06970296223958333\n",
      "Epoch: 316 Training Loss: 0.0703292587896188 Test Loss: 0.06981111526489257\n",
      "Epoch: 317 Training Loss: 0.07028344507018724 Test Loss: 0.0696074104309082\n",
      "Epoch: 318 Training Loss: 0.07030284350117047 Test Loss: 0.06958124160766602\n",
      "Epoch: 319 Training Loss: 0.07036528890331586 Test Loss: 0.06959346135457357\n",
      "Epoch: 320 Training Loss: 0.07036429971456527 Test Loss: 0.06995450973510742\n",
      "Epoch: 321 Training Loss: 0.07026711573203405 Test Loss: 0.06969703038533528\n",
      "Epoch: 322 Training Loss: 0.07030954380830129 Test Loss: 0.06962859471638998\n"
     ]
    },
    {
     "name": "stdout",
     "output_type": "stream",
     "text": [
      "Epoch: 323 Training Loss: 0.07038591727614403 Test Loss: 0.07030560175577799\n",
      "Epoch: 324 Training Loss: 0.07033503433068593 Test Loss: 0.06998600006103516\n",
      "Epoch: 325 Training Loss: 0.0703203459084034 Test Loss: 0.06931699752807617\n",
      "Epoch: 326 Training Loss: 0.07024477670590083 Test Loss: 0.06882031122843424\n",
      "Epoch: 327 Training Loss: 0.07033614660302798 Test Loss: 0.06994089762369791\n",
      "Epoch: 328 Training Loss: 0.07033022135496139 Test Loss: 0.06889841715494792\n",
      "Epoch: 329 Training Loss: 0.07025478348135948 Test Loss: 0.06935213088989257\n",
      "Epoch: 330 Training Loss: 0.0702547953526179 Test Loss: 0.06971230824788412\n",
      "Epoch: 331 Training Loss: 0.07027412980794906 Test Loss: 0.06971004486083984\n",
      "Epoch: 332 Training Loss: 0.07025448381900787 Test Loss: 0.06966270446777344\n",
      "Epoch: 333 Training Loss: 0.07020724058151245 Test Loss: 0.06916385650634765\n",
      "Epoch: 334 Training Loss: 0.07033523872494697 Test Loss: 0.06924728393554687\n",
      "Epoch: 335 Training Loss: 0.07034846593936285 Test Loss: 0.06962814331054687\n",
      "Epoch: 336 Training Loss: 0.0702778796851635 Test Loss: 0.06971997578938802\n",
      "Epoch: 337 Training Loss: 0.07027566730976105 Test Loss: 0.06871902465820312\n",
      "Epoch: 338 Training Loss: 0.07019928415616353 Test Loss: 0.06952260971069336\n",
      "Epoch: 339 Training Loss: 0.07024648418029149 Test Loss: 0.06989647547403971\n",
      "Epoch: 340 Training Loss: 0.07027210578322411 Test Loss: 0.06901027043660482\n",
      "Epoch: 341 Training Loss: 0.0702830476562182 Test Loss: 0.06957380930582682\n",
      "Epoch: 342 Training Loss: 0.07030200322469075 Test Loss: 0.06916221618652343\n",
      "Epoch: 343 Training Loss: 0.07027960653106372 Test Loss: 0.06970954259236653\n",
      "Epoch: 344 Training Loss: 0.07036686167120934 Test Loss: 0.07037635167439779\n",
      "Epoch: 345 Training Loss: 0.07031676093737284 Test Loss: 0.06970987955729167\n",
      "Epoch: 346 Training Loss: 0.07032305081685385 Test Loss: 0.06945148468017578\n",
      "Epoch: 347 Training Loss: 0.07034091169635455 Test Loss: 0.07015458424886067\n",
      "Epoch: 348 Training Loss: 0.07024262964725494 Test Loss: 0.0702346674601237\n",
      "Epoch: 349 Training Loss: 0.07017008771498998 Test Loss: 0.0696632957458496\n",
      "Epoch: 350 Training Loss: 0.07018073802193006 Test Loss: 0.06920143127441407\n",
      "Epoch: 351 Training Loss: 0.07019310305515924 Test Loss: 0.06989723205566406\n",
      "Epoch: 352 Training Loss: 0.0702105822165807 Test Loss: 0.06984830856323242\n",
      "Epoch: 353 Training Loss: 0.07010591859618823 Test Loss: 0.06982977549235025\n",
      "Epoch: 354 Training Loss: 0.07022243628899257 Test Loss: 0.07003695170084635\n",
      "Epoch: 355 Training Loss: 0.07033038715521495 Test Loss: 0.06938221613566081\n",
      "Epoch: 356 Training Loss: 0.07026652495066325 Test Loss: 0.0687844975789388\n",
      "Epoch: 357 Training Loss: 0.07022984032829603 Test Loss: 0.06997763315836589\n",
      "Epoch: 358 Training Loss: 0.07026641304294268 Test Loss: 0.06944610595703125\n",
      "Epoch: 359 Training Loss: 0.07007361441850662 Test Loss: 0.06966187159220377\n",
      "Epoch: 360 Training Loss: 0.07016204590598742 Test Loss: 0.06953697840372722\n",
      "Epoch: 361 Training Loss: 0.07004988034566244 Test Loss: 0.06949321746826172\n",
      "Epoch: 362 Training Loss: 0.07015362247824669 Test Loss: 0.06948257446289062\n",
      "Epoch: 363 Training Loss: 0.07009731695055961 Test Loss: 0.06887570063273112\n",
      "Epoch: 364 Training Loss: 0.0702767879764239 Test Loss: 0.06943025588989257\n",
      "Epoch: 365 Training Loss: 0.07018634324272474 Test Loss: 0.06982638041178385\n",
      "Epoch: 366 Training Loss: 0.07022605339686076 Test Loss: 0.06984416961669922\n",
      "Epoch: 367 Training Loss: 0.07011822546521823 Test Loss: 0.06879263559977214\n"
     ]
    },
    {
     "ename": "KeyboardInterrupt",
     "evalue": "",
     "output_type": "error",
     "traceback": [
      "\u001b[1;31m---------------------------------------------------------------------------\u001b[0m",
      "\u001b[1;31mKeyboardInterrupt\u001b[0m                         Traceback (most recent call last)",
      "\u001b[1;32m<ipython-input-91-ee16e9ab4aa6>\u001b[0m in \u001b[0;36m<module>\u001b[1;34m\u001b[0m\n\u001b[0;32m     15\u001b[0m         \u001b[0mloss\u001b[0m\u001b[1;33m.\u001b[0m\u001b[0mbackward\u001b[0m\u001b[1;33m(\u001b[0m\u001b[1;33m)\u001b[0m         \u001b[1;31m# backpropagation, compute gradients\u001b[0m\u001b[1;33m\u001b[0m\u001b[1;33m\u001b[0m\u001b[0m\n\u001b[0;32m     16\u001b[0m         \u001b[1;31m#print(t,loss.data[0])\u001b[0m\u001b[1;33m\u001b[0m\u001b[1;33m\u001b[0m\u001b[1;33m\u001b[0m\u001b[0m\n\u001b[1;32m---> 17\u001b[1;33m         \u001b[0moptimizer\u001b[0m\u001b[1;33m.\u001b[0m\u001b[0mstep\u001b[0m\u001b[1;33m(\u001b[0m\u001b[1;33m)\u001b[0m        \u001b[1;31m# apply gradients\u001b[0m\u001b[1;33m\u001b[0m\u001b[1;33m\u001b[0m\u001b[0m\n\u001b[0m\u001b[0;32m     18\u001b[0m \u001b[1;33m\u001b[0m\u001b[0m\n\u001b[0;32m     19\u001b[0m     \u001b[0mmy_net\u001b[0m\u001b[1;33m.\u001b[0m\u001b[0meval\u001b[0m\u001b[1;33m(\u001b[0m\u001b[1;33m)\u001b[0m\u001b[1;33m\u001b[0m\u001b[1;33m\u001b[0m\u001b[0m\n",
      "\u001b[1;32mD:\\Users\\papagian\\AppData\\Local\\Continuum\\Anaconda3\\envs\\pytorch1\\lib\\site-packages\\torch\\optim\\adam.py\u001b[0m in \u001b[0;36mstep\u001b[1;34m(self, closure)\u001b[0m\n\u001b[0;32m     99\u001b[0m                     \u001b[0mdenom\u001b[0m \u001b[1;33m=\u001b[0m \u001b[0mmax_exp_avg_sq\u001b[0m\u001b[1;33m.\u001b[0m\u001b[0msqrt\u001b[0m\u001b[1;33m(\u001b[0m\u001b[1;33m)\u001b[0m\u001b[1;33m.\u001b[0m\u001b[0madd_\u001b[0m\u001b[1;33m(\u001b[0m\u001b[0mgroup\u001b[0m\u001b[1;33m[\u001b[0m\u001b[1;34m'eps'\u001b[0m\u001b[1;33m]\u001b[0m\u001b[1;33m)\u001b[0m\u001b[1;33m\u001b[0m\u001b[1;33m\u001b[0m\u001b[0m\n\u001b[0;32m    100\u001b[0m                 \u001b[1;32melse\u001b[0m\u001b[1;33m:\u001b[0m\u001b[1;33m\u001b[0m\u001b[1;33m\u001b[0m\u001b[0m\n\u001b[1;32m--> 101\u001b[1;33m                     \u001b[0mdenom\u001b[0m \u001b[1;33m=\u001b[0m \u001b[0mexp_avg_sq\u001b[0m\u001b[1;33m.\u001b[0m\u001b[0msqrt\u001b[0m\u001b[1;33m(\u001b[0m\u001b[1;33m)\u001b[0m\u001b[1;33m.\u001b[0m\u001b[0madd_\u001b[0m\u001b[1;33m(\u001b[0m\u001b[0mgroup\u001b[0m\u001b[1;33m[\u001b[0m\u001b[1;34m'eps'\u001b[0m\u001b[1;33m]\u001b[0m\u001b[1;33m)\u001b[0m\u001b[1;33m\u001b[0m\u001b[1;33m\u001b[0m\u001b[0m\n\u001b[0m\u001b[0;32m    102\u001b[0m \u001b[1;33m\u001b[0m\u001b[0m\n\u001b[0;32m    103\u001b[0m                 \u001b[0mbias_correction1\u001b[0m \u001b[1;33m=\u001b[0m \u001b[1;36m1\u001b[0m \u001b[1;33m-\u001b[0m \u001b[0mbeta1\u001b[0m \u001b[1;33m**\u001b[0m \u001b[0mstate\u001b[0m\u001b[1;33m[\u001b[0m\u001b[1;34m'step'\u001b[0m\u001b[1;33m]\u001b[0m\u001b[1;33m\u001b[0m\u001b[1;33m\u001b[0m\u001b[0m\n",
      "\u001b[1;31mKeyboardInterrupt\u001b[0m: "
     ]
    }
   ],
   "source": [
    "# Training data\n",
    "\n",
    "\n",
    "\n",
    "nb_of_epochs=1500\n",
    "batch_size=int(x_variable.shape[0]/100)\n",
    "# Train the network #\n",
    "for t in range(nb_of_epochs):\n",
    "    sum_loss=0\n",
    "    for b in range(0,x_variable.size(0),batch_size):\n",
    "        out = my_net(x_variable.narrow(0,b,batch_size))                 # input x and predict based on x\n",
    "        loss = loss_func(out, y_variable.narrow(0,b,batch_size))     # must be (1. nn output, 2. target), the target label is NOT one-hotted\n",
    "        sum_loss+=loss.item()\n",
    "        optimizer.zero_grad()   # clear gradients for next train\n",
    "        loss.backward()         # backpropagation, compute gradients\n",
    "        #print(t,loss.data[0])\n",
    "        optimizer.step()        # apply gradients\n",
    "    \n",
    "    my_net.eval()\n",
    "    test_loss=loss_func(my_net(x_variable_test),y_variable_test).item()\n",
    "    my_net.train()\n",
    "    print(\"Epoch:\",t,\"Training Loss:\",sum_loss/x_variable.size(0),\"Test Loss:\",test_loss/x_variable_test.size(0))"
   ]
  },
  {
   "cell_type": "code",
   "execution_count": 92,
   "metadata": {},
   "outputs": [
    {
     "data": {
      "text/plain": [
       "Net(\n",
       "  (bn_input): BatchNorm1d(12, eps=1e-05, momentum=0.5, affine=True, track_running_stats=True)\n",
       "  (fc0): Linear(in_features=12, out_features=72, bias=True)\n",
       "  (bn0): BatchNorm1d(72, eps=1e-05, momentum=0.5, affine=True, track_running_stats=True)\n",
       "  (predict): Linear(in_features=72, out_features=36, bias=True)\n",
       "  (fc1): Linear(in_features=72, out_features=72, bias=True)\n",
       "  (bn1): BatchNorm1d(72, eps=1e-05, momentum=0.5, affine=True, track_running_stats=True)\n",
       "  (fc2): Linear(in_features=72, out_features=72, bias=True)\n",
       "  (bn2): BatchNorm1d(72, eps=1e-05, momentum=0.5, affine=True, track_running_stats=True)\n",
       ")"
      ]
     },
     "execution_count": 92,
     "metadata": {},
     "output_type": "execute_result"
    }
   ],
   "source": [
    "# Evalution mode on\n",
    "\n",
    "my_net.eval()\n",
    "\n",
    "\n",
    "\n"
   ]
  },
  {
   "cell_type": "code",
   "execution_count": 152,
   "metadata": {},
   "outputs": [
    {
     "name": "stdout",
     "output_type": "stream",
     "text": [
      "checked (2, 3)\n",
      "checked (3, 4)\n",
      "checked (1, 2)\n",
      "checked (4, 5)\n",
      "checked (5, 0)\n",
      "checked (0, 1)\n",
      "initial set edges: {(0, 1), (1, 2), (4, 5), (2, 3), (5, 0), (3, 4)}\n",
      "Edge: (2, 3) targeting: 4\n",
      "(2, 3, 4)\n",
      "Vertex locked: 3\n",
      "edges inserted: (2, 4)\n",
      "set of interior edges updated: {(2, 4)}\n",
      "set of edges updated: {(0, 1), (1, 2), (4, 5), (2, 3), (5, 0), (3, 4), (2, 4)}\n",
      "element inserted: (2, 3, 4)\n",
      "Edge: (3, 4) targeting: 2\n",
      "(3, 4, 2)\n",
      "Element (2, 3, 4) already in set\n",
      "Edge: (1, 2) targeting: 4\n",
      "(1, 2, 4)\n",
      "Vertex locked: 2\n",
      "edges inserted: (1, 4)\n",
      "set of interior edges updated: {(2, 4), (1, 4)}\n",
      "set of edges updated: {(0, 1), (1, 2), (4, 5), (1, 4), (2, 3), (5, 0), (3, 4), (2, 4)}\n",
      "element inserted: (1, 2, 4)\n",
      "Edge: (4, 5) targeting: 1\n",
      "(4, 5, 1)\n",
      "Vertex locked: 4\n",
      "edges inserted: (5, 1)\n",
      "set of interior edges updated: {(5, 1), (2, 4), (1, 4)}\n",
      "set of edges updated: {(0, 1), (1, 2), (4, 5), (1, 4), (2, 3), (5, 0), (5, 1), (3, 4), (2, 4)}\n",
      "element inserted: (4, 5, 1)\n",
      "Edge: (5, 0) targeting: 1\n",
      "(5, 0, 1)\n",
      "Vertex locked: 5\n",
      "Vertex locked: 0\n",
      "Vertex locked: 1\n",
      "element inserted: (5, 0, 1)\n",
      "Edge: (0, 1) targeting: 5\n",
      "(0, 1, 5)\n",
      "Element (5, 0, 1) already in set\n",
      "Final edges: {(0, 1), (1, 2), (4, 5), (1, 4), (2, 3), (5, 0), (5, 1), (3, 4), (2, 4)}\n",
      "Elements created: {(4, 5, 1), (2, 3, 4), (5, 0, 1), (1, 2, 4)}\n",
      "Set of locked vertices: {0, 1, 2, 3, 4, 5}\n",
      "Set of open vertices: set()\n",
      "{(4, 5, 1), (2, 3, 4), (5, 0, 1), (1, 2, 4)}\n"
     ]
    },
    {
     "data": {
      "image/png": "[encoded data removed]",
      "text/plain": [
       "<Figure size 432x288 with 1 Axes>"
      ]
     },
     "metadata": {
      "needs_background": "light"
     },
     "output_type": "display_data"
    },
    {
     "data": {
      "image/png": "[encoded data removed]",
      "text/plain": [
       "<Figure size 432x288 with 1 Axes>"
      ]
     },
     "metadata": {
      "needs_background": "light"
     },
     "output_type": "display_data"
    }
   ],
   "source": [
    "# Comparing NN result with reference mesher\n",
    "\n",
    "\n",
    "# Get the quality matrix (or connection table from the manuscript) from a random contour\n",
    "\n",
    "with open('6_contour_20.pkl','rb') as f:\n",
    "    polygon=pickle.load(f)\n",
    "\n",
    "procrustes_contour=apply_procrustes(polygon)\n",
    "procrustes_contour=procrustes_contour.reshape(2*procrustes_contour.shape[0]).reshape(1,-1)\n",
    "\n",
    "input_contour=Variable(torch.from_numpy(procrustes_contour).type(torch.FloatTensor)).cuda()\n",
    "predicted_quality_matrix=my_net(input_contour)\n",
    "\n",
    "predicted_quality_matrix=predicted_quality_matrix.cpu()\n",
    "predicted_quality_matrix=predicted_quality_matrix.data[0].numpy().reshape(nb_of_points,nb_of_points)\n",
    "procrustes_contour=procrustes_contour.reshape(nb_of_points,2)\n",
    "ordered_matrix=order_quality_matrix(predicted_quality_matrix,procrustes_contour)\n",
    "triangulate(procrustes_contour,ordered_matrix)\n",
    "\n",
    "\n",
    "# Results with reference mesher\n",
    "fig=plt.figure()\n",
    "shape=dict(vertices=procrustes_contour,segments=get_contour_edges(procrustes_contour))\n",
    "triangulated=triangle.triangulate(shape,'pq0') \n",
    "plot.plot(plt.axes(), **triangulated)"
   ]
  },
  {
   "cell_type": "code",
   "execution_count": 149,
   "metadata": {
    "scrolled": true
   },
   "outputs": [
    {
     "name": "stdout",
     "output_type": "stream",
     "text": [
      "initial set edges: {(0, 1), (1, 2), (4, 5), (2, 3), (5, 0), (3, 4)}\n",
      "Edge: (5, 0) targeting: 4\n",
      "(5, 0, 4)\n",
      "Vertex locked: 5\n",
      "edges inserted: (0, 4)\n",
      "set of interior edges updated: {(0, 4)}\n",
      "set of edges updated: {(0, 1), (1, 2), (4, 5), (2, 3), (5, 0), (0, 4), (3, 4)}\n",
      "element inserted: (5, 0, 4)\n",
      "Edge: (4, 5) targeting: 0\n",
      "(4, 5, 0)\n",
      "Element (5, 0, 4) already in set\n",
      "Edge: (3, 4) targeting: 0\n",
      "(3, 4, 0)\n",
      "Vertex locked: 4\n",
      "edges inserted: (3, 0)\n",
      "set of interior edges updated: {(3, 0), (0, 4)}\n",
      "set of edges updated: {(0, 1), (1, 2), (4, 5), (3, 0), (2, 3), (5, 0), (0, 4), (3, 4)}\n",
      "element inserted: (3, 4, 0)\n",
      "Edge: (2, 3) targeting: 1\n",
      "(2, 3, 1)\n",
      "Vertex locked: 2\n",
      "edges inserted: (3, 1)\n",
      "set of interior edges updated: {(3, 0), (3, 1), (0, 4)}\n",
      "set of edges updated: {(0, 1), (1, 2), (4, 5), (3, 0), (3, 1), (2, 3), (5, 0), (0, 4), (3, 4)}\n",
      "element inserted: (2, 3, 1)\n",
      "Edge: (1, 2) targeting: 3\n",
      "(1, 2, 3)\n",
      "Element (2, 3, 1) already in set\n",
      "Edge: (0, 1) targeting: 3\n",
      "Element inserted: (0, 1, 3)\n",
      "Edge: (0, 1) targeting: 4\n",
      "Element inserted: (0, 1, 3)\n",
      "Edge: (0, 1) targeting: 2\n",
      "Element inserted: (0, 1, 3)\n",
      "Edge: (0, 1) targeting: 5\n",
      "Element inserted: (0, 1, 3)\n",
      "Final edges: {(0, 1), (1, 2), (4, 5), (3, 0), (3, 1), (2, 3), (5, 0), (0, 4), (3, 4)}\n",
      "Elements created: {(5, 0, 4), (2, 3, 1), (3, 4, 0), (0, 1, 3)}\n",
      "Set of locked vertices: {2, 4, 5}\n",
      "Vertex locked: 0\n",
      "Vertex locked: 3\n",
      "Vertex locked: 1\n",
      "Set of open vertices: set()\n",
      "{(5, 0, 4), (2, 3, 1), (3, 4, 0), (0, 1, 3)}\n"
     ]
    },
    {
     "data": {
      "text/plain": [
       "({(0, 1, 3), (2, 3, 1), (3, 4, 0), (5, 0, 4)}, [])"
      ]
     },
     "execution_count": 149,
     "metadata": {},
     "output_type": "execute_result"
    },
    {
     "data": {
      "image/png": "[encoded data removed]",
      "text/plain": [
       "<Figure size 432x288 with 1 Axes>"
      ]
     },
     "metadata": {
      "needs_background": "light"
     },
     "output_type": "display_data"
    }
   ],
   "source": [
    "# Triangulation method result (without NN)\n",
    "\n",
    "original_quality_matrix,_=quality_matrix(procrustes_contour)\n",
    "ordered_matrix=order_quality_matrix(original_quality_matrix,procrustes_contour,check_for_equal=False)\n",
    "triangulate(procrustes_contour,ordered_matrix)\n"
   ]
  },
  {
   "cell_type": "code",
   "execution_count": 153,
   "metadata": {
    "scrolled": true
   },
   "outputs": [
    {
     "data": {
      "image/png": "[encoded data removed]",
      "text/plain": [
       "<Figure size 432x288 with 1 Axes>"
      ]
     },
     "metadata": {
      "needs_background": "light"
     },
     "output_type": "display_data"
    }
   ],
   "source": [
    "plot_contour(polygon)"
   ]
  },
  {
   "cell_type": "code",
   "execution_count": 151,
   "metadata": {},
   "outputs": [
    {
     "data": {
      "image/png": "[encoded data removed]",
      "text/plain": [
       "<Figure size 432x288 with 1 Axes>"
      ]
     },
     "metadata": {
      "needs_background": "light"
     },
     "output_type": "display_data"
    }
   ],
   "source": [
    "plot_contour(apply_procrustes(polygon))\n"
   ]
  },
  {
   "cell_type": "code",
   "execution_count": 36,
   "metadata": {},
   "outputs": [],
   "source": [
    "with open('4_connection_net.pkl','wb') as f:\n",
    "    pickle.dump(my_net,f)"
   ]
  },
  {
   "cell_type": "code",
   "execution_count": 138,
   "metadata": {},
   "outputs": [],
   "source": [
    "def apply_procrustes(polygon_points,ref_polygon=None,plot=False):  \n",
    "    \n",
    "    # Get reference polygona and adjust any random polygon to that\n",
    "    if ref_polygon is None:    \n",
    "        ref_polygon=get_reference_polygon(polygon_points.shape[0])\n",
    "    \n",
    "    \n",
    "    #Mean of each coordinate\n",
    "    mu_polygon = polygon_points.mean(0)\n",
    "    mu_ref_polygon = ref_polygon.mean(0)\n",
    "    \n",
    "    #Centralize data to the mean \n",
    "    centralised_ref_polygon_points = ref_polygon-mu_ref_polygon\n",
    "    centralised_polygon_points = polygon_points-mu_polygon\n",
    "    \n",
    "    #Squared sum of X-mean(X)\n",
    "    ss_ref_polygon_points = (centralised_ref_polygon_points**2.).sum()\n",
    "    ss_polygon_points = (centralised_polygon_points**2.).sum()\n",
    "\n",
    "       \n",
    "    #Frobenius norm of X\n",
    "    norm_ss_ref_polygon_points = np.sqrt(ss_ref_polygon_points)\n",
    "    norm_ss_polygon_points = np.sqrt(ss_polygon_points)\n",
    "\n",
    "    \n",
    "    # scale to equal (unit) norm\n",
    "    centralised_ref_polygon_points /=norm_ss_ref_polygon_points     \n",
    "    centralised_polygon_points /=norm_ss_polygon_points\n",
    "        \n",
    "    \n",
    "    #Finding best rotation to superimpose on regular triangle\n",
    "    #Applying SVD to the  matrix \n",
    "    A = np.dot(centralised_ref_polygon_points.T, centralised_polygon_points)\n",
    "    U,s,Vt = np.linalg.svd(A,full_matrices=False)\n",
    "    V=Vt.T\n",
    "    R = np.dot(V,U.T)\n",
    "    \n",
    "  \n",
    "    traceTA = s.sum()\n",
    "    indices=[i for i in range(polygon_points.shape[0])]\n",
    "    \n",
    "   \n",
    "\n",
    "    polygon_transformed =norm_ss_ref_polygon_points*traceTA*np.dot(centralised_polygon_points,R)+mu_ref_polygon\n",
    "\n",
    "    if plot==True:\n",
    "        plot_coords=np.vstack([polygon_transformed,polygon_transformed[0]])\n",
    "        (s,t)=zip(*plot_coords)\n",
    "        plt.plot(s,t)\n",
    "        for index,i in enumerate(indices):\n",
    "            plt.annotate(str(i),(s[index],t[index]))\n",
    "    \n",
    "    return polygon_transformed"
   ]
  },
  {
   "cell_type": "code",
   "execution_count": 144,
   "metadata": {},
   "outputs": [],
   "source": [
    "def get_apply_procrustes_info(polygon_points,ref_polygon=None,plot=False):  \n",
    "    \n",
    "    # Get reference polygona and adjust any random polygon to that\n",
    "    if ref_polygon is None:    \n",
    "        ref_polygon=get_reference_polygon(polygon_points.shape[0])\n",
    "    \n",
    "    \n",
    "    #Mean of each coordinate\n",
    "    mu_polygon = polygon_points.mean(0)\n",
    "    mu_ref_polygon = ref_polygon.mean(0)\n",
    "    \n",
    "    #Centralize data to the mean \n",
    "    centralised_ref_polygon_points = ref_polygon-mu_ref_polygon\n",
    "    centralised_polygon_points = polygon_points-mu_polygon\n",
    "    \n",
    "    #Squared sum of X-mean(X)\n",
    "    ss_ref_polygon_points = (centralised_ref_polygon_points**2.).sum()\n",
    "    ss_polygon_points = (centralised_polygon_points**2.).sum()\n",
    "\n",
    "       \n",
    "    #Frobenius norm of X\n",
    "    norm_ss_ref_polygon_points = np.sqrt(ss_ref_polygon_points)\n",
    "    norm_ss_polygon_points = np.sqrt(ss_polygon_points)\n",
    "\n",
    "    \n",
    "    # scale to equal (unit) norm\n",
    "    centralised_ref_polygon_points /=norm_ss_ref_polygon_points     \n",
    "    centralised_polygon_points /=norm_ss_polygon_points\n",
    "        \n",
    "    \n",
    "    #Finding best rotation to superimpose on regular triangle\n",
    "    #Applying SVD to the  matrix \n",
    "    A = np.dot(centralised_ref_polygon_points.T, centralised_polygon_points)\n",
    "    U,s,Vt = np.linalg.svd(A,full_matrices=False)\n",
    "    V=Vt.T\n",
    "    R = np.dot(V,U.T)\n",
    "    \n",
    "  \n",
    "    traceTA = s.sum()\n",
    "    indices=[i for i in range(polygon_points.shape[0])]\n",
    "    \n",
    "   \n",
    "\n",
    "    polygon_transformed =norm_ss_ref_polygon_points*traceTA*np.dot(centralised_polygon_points,R)+mu_ref_polygon\n",
    "\n",
    "    if plot==True:\n",
    "        plot_coords=np.vstack([polygon_transformed,polygon_transformed[0]])\n",
    "        (s,t)=zip(*plot_coords)\n",
    "        plt.plot(s,t)\n",
    "        for index,i in enumerate(indices):\n",
    "            plt.annotate(str(i),(s[index],t[index]))\n",
    "    \n",
    "    return polygon_transformed,norm_ss_ref_polygon_points,traceTA,mu_ref_polygon,centralised_polygon_points,R,ref_polygon,norm_ss_polygon_points,mu_polygon"
   ]
  },
  {
   "cell_type": "code",
   "execution_count": 146,
   "metadata": {},
   "outputs": [],
   "source": [
    "polygon_transformed,norm_ss_ref_polygon_points,traceTA,mu_ref_polygon,centralised_polygon_points,R,ref_polygon,norm_ss_polygon_points,mu_polygon=get_apply_procrustes_info(polygon)"
   ]
  },
  {
   "cell_type": "code",
   "execution_count": 142,
   "metadata": {},
   "outputs": [
    {
     "data": {
      "text/plain": [
       "array([[0.50046029, 0.78376912],\n",
       "       [0.62844956, 0.78507498],\n",
       "       [0.69851599, 0.68211702],\n",
       "       [0.56496005, 0.67675037],\n",
       "       [0.44078402, 0.67714785],\n",
       "       [0.32607334, 0.67760114]])"
      ]
     },
     "execution_count": 142,
     "metadata": {},
     "output_type": "execute_result"
    }
   ],
   "source": [
    "polygon\n",
    "\n",
    "\n"
   ]
  },
  {
   "cell_type": "code",
   "execution_count": 147,
   "metadata": {},
   "outputs": [],
   "source": [
    "polygon_coords=np.dot((polygon_transformed-mu_ref_polygon)/norm_ss_ref_polygon_points*traceTA,np.linalg.inv(R))*norm_ss_polygon_points+mu_polygon"
   ]
  },
  {
   "cell_type": "code",
   "execution_count": 148,
   "metadata": {},
   "outputs": [
    {
     "data": {
      "text/plain": [
       "array([[0.50664272, 0.76716923],\n",
       "       [0.60429159, 0.76816553],\n",
       "       [0.65774848, 0.68961419],\n",
       "       [0.55585254, 0.68551973],\n",
       "       [0.46111297, 0.68582299],\n",
       "       [0.37359494, 0.68616882]])"
      ]
     },
     "execution_count": 148,
     "metadata": {},
     "output_type": "execute_result"
    }
   ],
   "source": [
    "polygon_coords\n"
   ]
  },
  {
   "cell_type": "code",
   "execution_count": 134,
   "metadata": {},
   "outputs": [
    {
     "data": {
      "text/plain": [
       "array([[-0.36733937,  0.93008698],\n",
       "       [ 0.93008698,  0.36733937]])"
      ]
     },
     "execution_count": 134,
     "metadata": {},
     "output_type": "execute_result"
    }
   ],
   "source": [
    "R"
   ]
  },
  {
   "cell_type": "code",
   "execution_count": null,
   "metadata": {},
   "outputs": [],
   "source": []
  }
 ],
 "metadata": {
  "kernelspec": {
   "display_name": "Python 3",
   "language": "python",
   "name": "python3"
  },
  "language_info": {
   "codemirror_mode": {
    "name": "ipython",
    "version": 3
   },
   "file_extension": ".py",
   "mimetype": "text/x-python",
   "name": "python",
   "nbconvert_exporter": "python",
   "pygments_lexer": "ipython3",
   "version": "3.6.9"
  }
 },
 "nbformat": 4,
 "nbformat_minor": 2
}
